{
 "cells": [
  {
   "cell_type": "markdown",
   "metadata": {},
   "source": [
    "## Learn Python Basics for Data Analysis\n",
    "## Chapter 1\n",
    "#### Declare your first Variable \n",
    "1. Declare a variable named bonusAllowance with the value 500 below the # TODO comment. \n",
    "2. Then click on the run button (the blue arrow on the bottom right of your screen). The values will be displayed if you did it right!"
   ]
  },
  {
   "cell_type": "code",
   "execution_count": 4,
   "metadata": {},
   "outputs": [],
   "source": [
    "# declare variable ongoingAllowance\n",
    "ongoingAllowance = 200\n",
    "# declare variable savings\n",
    "savings = 3000\n",
    "\n",
    "# TODO: Create a variable called bonusAllowance with the value 500\n",
    "# declare varialbe bonus\n",
    "bonusAllowance = 500"
   ]
  },
  {
   "cell_type": "code",
   "execution_count": 5,
   "metadata": {},
   "outputs": [
    {
     "name": "stdout",
     "output_type": "stream",
     "text": [
      "You have an ongoing allowance of 200 \n",
      "Your savings amount is 3000 \n",
      "You have a bonus allowance of 500\n"
     ]
    }
   ],
   "source": [
    "# Print the result\n",
    "print(\"You have an ongoing allowance of\", ongoingAllowance, \n",
    "      \"\\nYour savings amount is\", savings, \n",
    "      \"\\nYou have a bonus allowance of\", bonusAllowance)"
   ]
  },
  {
   "cell_type": "markdown",
   "metadata": {},
   "source": [
    "## Operations"
   ]
  },
  {
   "cell_type": "code",
   "execution_count": 6,
   "metadata": {},
   "outputs": [],
   "source": [
    "# add 100 to our current savings (Yeah!)\n",
    "savings = savings + 100\n",
    "\n",
    "# remove 50 from out ongoing allowance (Snif)\n",
    "ongoingAllowance = ongoingAllowance - 50\n",
    "\n",
    "# update the number of days we need to saveint \n",
    "numberOfDaysToSave = (5000 - ongoingAllowance) / 500\n",
    "\n",
    "# update our ongoing allowance (again)\n",
    "ongoingAllowance = ongoingAllowance + (30 - 10) * 7"
   ]
  },
  {
   "cell_type": "markdown",
   "metadata": {},
   "source": [
    "- % Modulus: divides and returns the value of the remainder. \n",
    "- **  Exponentiation: raises the first number to the power of the second. \n",
    "- //  Floor division: divides and returns the integer value of the quotient. It dumps the digits after the decimal."
   ]
  },
  {
   "cell_type": "code",
   "execution_count": 7,
   "metadata": {},
   "outputs": [
    {
     "name": "stdout",
     "output_type": "stream",
     "text": [
      "100\n",
      "729\n",
      "6\n"
     ]
    }
   ],
   "source": [
    "print(savings % 500) # -> 100\n",
    "# 1100 = 500 * 2 + 100, so 1100 % 500 = the remainder = 100\n",
    "\n",
    "print(9 ** 3) # -> 729, 9*9*9 = 729\n",
    "\n",
    "print(savings // 500) # -> 2\n",
    "# 1100 = 500 * 2 + 100, so 1100 // 500 = integer value of the quotient = 2"
   ]
  },
  {
   "cell_type": "code",
   "execution_count": 10,
   "metadata": {},
   "outputs": [],
   "source": [
    "# spelled out version\n",
    "savings = savings + 100\n",
    "\n",
    "# short version\n",
    "savings += 100"
   ]
  },
  {
   "cell_type": "markdown",
   "metadata": {},
   "source": [
    "## Shortcuts with Operators\n",
    "1. Click on the run button to display the savings value. \n",
    "2. Modify the savings = savings + 500statement after the # TODO comment, using the shortcut operator +=.\n",
    "3. Click again on the run button to check that the calculation is still correct."
   ]
  },
  {
   "cell_type": "code",
   "execution_count": 11,
   "metadata": {},
   "outputs": [
    {
     "name": "stdout",
     "output_type": "stream",
     "text": [
      "Your savings amount is:  4000\n"
     ]
    }
   ],
   "source": [
    "ongoingAllowance = 200\n",
    "savings = 3000\n",
    "    \n",
    "# TODO: Modify the following statement to use the += shortcut operator\n",
    "savings = savings + 500\n",
    "\n",
    "savings += 500\n",
    "\n",
    "print(\"Your savings amount is: \", savings)"
   ]
  },
  {
   "cell_type": "markdown",
   "metadata": {},
   "source": [
    "## Number Arithmetics"
   ]
  },
  {
   "cell_type": "markdown",
   "metadata": {},
   "source": [
    "#### Variable Types \n",
    "1. String = text. \n",
    "2. Integer = whole number. \n",
    "3. Float = floating point number. "
   ]
  },
  {
   "cell_type": "code",
   "execution_count": 13,
   "metadata": {},
   "outputs": [],
   "source": [
    "# String\n",
    "text = \"A wonderful string that consists of multiple characters\"\n",
    "# same thing than\n",
    "text = 'A wonderful string that consists of multiple characters'\n",
    "\n",
    "# Integer\n",
    "numberOfVowels = 0\n",
    "\n",
    "# Float\n",
    "percentageOfVowels = 0.0"
   ]
  },
  {
   "cell_type": "markdown",
   "metadata": {},
   "source": [
    "## Chapter 2 <br> Understand numeric and string data types"
   ]
  },
  {
   "cell_type": "markdown",
   "metadata": {},
   "source": [
    "- Numeric Types \n",
    "- Integers, which are whole numbers, like the numbers you use to count (1, 2, 3). \n",
    "- Decimals, like those you may use to store money values (2.50 or 5.99)."
   ]
  },
  {
   "cell_type": "code",
   "execution_count": 15,
   "metadata": {},
   "outputs": [],
   "source": [
    "# Integers are declared like any other variable\n",
    "# Variable count has an integer type.  \n",
    "count = 10"
   ]
  },
  {
   "cell_type": "code",
   "execution_count": 16,
   "metadata": {},
   "outputs": [],
   "source": [
    "# For decimals, Python uses float type.\n",
    "# As long as the value is a decimal number, Python will automatically store it as a float variable.\n",
    "length = 1876.79\n",
    "width = 1876.79797657"
   ]
  },
  {
   "cell_type": "markdown",
   "metadata": {},
   "source": [
    "#### Mixing numeric types \n",
    "- If the result of the operation between two integers is supposed to be a decimal number, Python will convert it to a float:"
   ]
  },
  {
   "cell_type": "code",
   "execution_count": 17,
   "metadata": {},
   "outputs": [
    {
     "data": {
      "text/plain": [
       "2.5"
      ]
     },
     "execution_count": 17,
     "metadata": {},
     "output_type": "execute_result"
    }
   ],
   "source": [
    "a = 7.5\n",
    "b = 3\n",
    "c = a/b\n",
    "c\n",
    "# that will display 2.5, which is a float"
   ]
  },
  {
   "cell_type": "code",
   "execution_count": 18,
   "metadata": {},
   "outputs": [
    {
     "name": "stdout",
     "output_type": "stream",
     "text": [
      "2.5\n"
     ]
    }
   ],
   "source": [
    "a = 10\n",
    "b = 4\n",
    "c = a/b\n",
    "print(c)\n",
    "# c is a float"
   ]
  },
  {
   "cell_type": "markdown",
   "metadata": {},
   "source": [
    "However, you can convert the type of an object to another. This is also called typecasting because the user casts (changes) the type of the objects. For that, you have to use the corresponding functions: \n",
    "- int() : for integers \n",
    "- float() : for floats"
   ]
  },
  {
   "cell_type": "code",
   "execution_count": 19,
   "metadata": {},
   "outputs": [],
   "source": [
    "a = 14.0\n",
    "# a is a float\n",
    "\n",
    "a = int(a)\n",
    "# a is now an integer, so it would display 14 and not 14.0"
   ]
  },
  {
   "cell_type": "markdown",
   "metadata": {},
   "source": [
    "Change the answer = numerator/denominator statement so that answer holds an integer and not a float !"
   ]
  },
  {
   "cell_type": "code",
   "execution_count": 23,
   "metadata": {},
   "outputs": [
    {
     "name": "stdout",
     "output_type": "stream",
     "text": [
      " 10 / 5 = 2\n"
     ]
    }
   ],
   "source": [
    "numerator = 10\n",
    "denominator = 5\n",
    "\n",
    "# TODO Change the statement below so that answer holds an integer value\n",
    "answer = numerator/denominator\n",
    "answer = int(answer) # or for float answer = float(answer)\n",
    "\n",
    "# Print the result\n",
    "print(\"\", numerator, \"/\", denominator, \"=\", answer)"
   ]
  },
  {
   "cell_type": "markdown",
   "metadata": {},
   "source": [
    "#### String Types"
   ]
  },
  {
   "cell_type": "code",
   "execution_count": 24,
   "metadata": {},
   "outputs": [],
   "source": [
    "# Here's how you declare a string variable in Python:\n",
    "city = \"New York\"\n",
    "movie = 'Best ever'\n",
    "emptyString = \"\""
   ]
  },
  {
   "cell_type": "code",
   "execution_count": 26,
   "metadata": {},
   "outputs": [],
   "source": [
    "# Merging one or more strings together is one of the more common actions you can perform. \n",
    "# Let's join some strings together:\n",
    "firstFavoriteCity = \"New York\"\n",
    "secondFavoriteCity = \"São Paulo\"\n",
    "favorites = firstFavoriteCity + secondFavoriteCity # -> \"New YorkSão Paulo\""
   ]
  },
  {
   "cell_type": "code",
   "execution_count": 28,
   "metadata": {},
   "outputs": [],
   "source": [
    "# Let's make it more readable by concatenating strings and variables:\n",
    "firstFavoriteCity = \"New York\"\n",
    "secondFavoriteCity = \"São Paulo\"\n",
    "favorites = \"My favorite cities are \" +firstFavoriteCity+ \" and \"+secondFavoriteCity \n",
    "# -> \"My favorite cities are New York and São Paulo\""
   ]
  },
  {
   "cell_type": "code",
   "execution_count": 30,
   "metadata": {},
   "outputs": [],
   "source": [
    "# Much better now! You can't concatenate other data types with strings.\n",
    "# However, you can use typecasting by using the str() function. How do you do that ?\n",
    "favoriteCity = \"São Paulo\"\n",
    "numberOfTrips = 5\n",
    "story = \"I've traveled to \" +favoriteCity+ \" \" +str(numberOfTrips)+ \" times!\" \n",
    "# -> \"I've traveled to São Paulo 5 times!\""
   ]
  },
  {
   "cell_type": "markdown",
   "metadata": {},
   "source": [
    "#### Concatenation \n",
    "1. Under the #TODO comment, create a new string variable called animals that says : \n",
    "2. I love both dogs and cats ! \n",
    "3. Using firstString and secondString"
   ]
  },
  {
   "cell_type": "code",
   "execution_count": 32,
   "metadata": {},
   "outputs": [
    {
     "name": "stdout",
     "output_type": "stream",
     "text": [
      "I love both dogs and cats\n"
     ]
    }
   ],
   "source": [
    "firstString = \"dogs\"\n",
    "secondString = \"cats\"\n",
    "\n",
    "# TODO create a new string variable called animals that says 'I love both dogs and cats!' using firstString and secondString\n",
    "\n",
    "animals = \"I love both \" +firstString+ \" and \"+secondString\n",
    "\n",
    "# print the result\n",
    "print(animals)"
   ]
  },
  {
   "cell_type": "markdown",
   "metadata": {},
   "source": [
    "#### Regulations \n",
    "Remember, variables always have a type, and Python doesn't require them to be specified when you declare a variable. If you need to use the content of a variable as if it was of another type, you can use typecasting."
   ]
  },
  {
   "cell_type": "markdown",
   "metadata": {},
   "source": [
    "## Chapter 3 <br> Define objects and their attributes with classes"
   ]
  },
  {
   "cell_type": "markdown",
   "metadata": {},
   "source": [
    "#### Designing Classes \n",
    "To declare a class in Python, use the keyword class followed by a custom name. After that, you end it with a colon (:).\n",
    "\n",
    "We owe you some explanations. All classes have a function called __init__(), which is executed when the class is being initiated. That means that every time you create a Book, the __init__() function is called. The first parameter of the method should always be self, which represents the class you are working on. For example, self.title will be the title assigned to the Book class just created. \n",
    "\n",
    "Another important thing to learn is to indent. Python is a block-structured language meaning that every group of statements in a program or script (called block) has to be indented. For example, after the first line, every indented code referring to the class Book: __init__ is only available in Book. The same goes for all the self. lines. They are only available in the __init__ function and only in Book."
   ]
  },
  {
   "cell_type": "markdown",
   "metadata": {},
   "source": [
    "#### Using Classes \n",
    "To work with a class, you need to create a concrete object of that class. In other words, you need a specific object, like a particular book (Alice in Wonderland). In Python, it is called an instance of a class. As its name implies, the process is called instantiating or initializing an object.  For that, you create a variable of the class. \n",
    "\n",
    "#### As you can see, there are a few different elements. First, you do a regular declaration of a variable, with its name myBook. \n",
    "Now, here comes the cool part. The variable is initialized with the object creation expression   Book(\"Coding is art\",\"Becky James\",425, \"OC\"). This expression is composed of the name of the class again (Book), and some parentheses() with values inside. As you can see, the value for each of the original fields:  title,  author, numberOfPages, and publisher has been specified in the parenthesis. Each one is separated with a comma."
   ]
  },
  {
   "cell_type": "markdown",
   "metadata": {},
   "source": [
    "#### Working with attributes\n",
    "\n",
    "- Attributes = are the variables you define when creating a class \n",
    "- To instantiate an object, you declare a variable of that calss\n",
    "- When you instantiate n object from the class, you also set the value for each field attributes in the object.\n",
    "\n",
    "- You use a class as a template for future objects.\n",
    "- In a class, define the name and type of some variables. These are called attributes in Python.  \n",
    "- To use the plan you made, you have to create an object by the process of instantiation. This means declaring a variable, then using the object creation expression you saw above. \n",
    "- When you instantiate an object, you create values for each of the attributes you've already defined in your class.  \n",
    "- An object is called an instance of a class. "
   ]
  },
  {
   "cell_type": "markdown",
   "metadata": {},
   "source": [
    "#### Classes\n",
    "\n",
    "1. Under the first # TODO statement, create a variable named myBook and initialize it with an instance of the Book class.\n",
    "2. Under the second # TODO statement, assign values to the title, author and numberOfPages fields of your myBook object using the dot operator."
   ]
  },
  {
   "cell_type": "code",
   "execution_count": 51,
   "metadata": {},
   "outputs": [
    {
     "name": "stdout",
     "output_type": "stream",
     "text": [
      "The title of the book is  Coding is Art \n",
      "Its author is Becky James \n",
      "It contains  435\n"
     ]
    }
   ],
   "source": [
    "class Book:\n",
    "    \n",
    "    def __init__(self, title, author, numberOfPages, publisher):\n",
    "        self.title = title\n",
    "        self.author = author\n",
    "        self.numberOfPages = numberOfPages\n",
    "        self.publisher = publisher\n",
    "\n",
    "# TODO Step 1 - instantiate an object of class Book and assign it to a variable named myBook\n",
    "\n",
    "myBook = Book(\"Coding is Art\", \"Becky James\", 425, \"OC\")\n",
    "\n",
    "# TODO Step 2 - assign a value to the title, author and numberOfPages fields of your object.\n",
    "\n",
    "myBook.title = \"Coding is Art\"\n",
    "myBook.author = \"Becky James\"\n",
    "myBook.numberOfPages += 10\n",
    "\n",
    "# Print the values\n",
    "print(\"The title of the book is \", myBook.title, \"\\nIts author is\",\n",
    "      myBook.author, \"\\nIt contains \", myBook.numberOfPages)"
   ]
  },
  {
   "cell_type": "markdown",
   "metadata": {},
   "source": [
    "## Chapter 4 <br> Store multiple elements with lists and dictionaries\n"
   ]
  },
  {
   "cell_type": "code",
   "execution_count": 52,
   "metadata": {},
   "outputs": [],
   "source": [
    "# Declare a variable for each guest in the front\n",
    "# Assign the guest namesfront\n",
    "RowGuest1=\"Mary Poppins\"\n",
    "frontRowGuest2=\"Jane Banks\""
   ]
  },
  {
   "cell_type": "markdown",
   "metadata": {},
   "source": [
    "#### Use a list to store several elements \n",
    "A list is a numerically ordered sequence of elements. This means that each element is associated with a number. That number is called an index which starts with 0 (not 1!). So the first element is associated with an index 0, the second with 1, etc.\n",
    "\n",
    "#### Declaring a list uses the same syntax as for any variable. You provide:\n",
    "1. The variable name that clearly expresses the intent of the array.\n",
    "2. The values stored in your list"
   ]
  },
  {
   "cell_type": "code",
   "execution_count": 54,
   "metadata": {},
   "outputs": [],
   "source": [
    "# For instance, you could store your fruits in a list as if it was a basket of fruit:\n",
    "basketOfFruits = ['orange', 'apple', 'banana', 'strawberry']"
   ]
  },
  {
   "cell_type": "markdown",
   "metadata": {},
   "source": [
    "#### Now that your list is created, you can perform two operations on it: \n",
    "1. Access a value at a given index. \n",
    "2. Set a new value at a given index."
   ]
  },
  {
   "cell_type": "code",
   "execution_count": 55,
   "metadata": {},
   "outputs": [],
   "source": [
    "# For instance, if you swap your banana (the 3rd fruit) with a cherry, you can write:\n",
    "# Assign the value \"cherry\" to the 3rd fruit in the basket\n",
    "# That's index 2, since the first index is 0\n",
    "basketOfFruits[2] = \"cherry\" "
   ]
  },
  {
   "cell_type": "code",
   "execution_count": 56,
   "metadata": {},
   "outputs": [
    {
     "name": "stdout",
     "output_type": "stream",
     "text": [
      "orange\n"
     ]
    }
   ],
   "source": [
    "# Print the first fruit in your basket\n",
    "print(basketOfFruits[0])"
   ]
  },
  {
   "cell_type": "markdown",
   "metadata": {},
   "source": [
    "Python allows negative indexing for its sequences. The index of -1 refers to the last item, -2 to the second last item and so on. You can also access a range of items in a list by using the slicing operator (colon)."
   ]
  },
  {
   "cell_type": "code",
   "execution_count": 57,
   "metadata": {},
   "outputs": [
    {
     "name": "stdout",
     "output_type": "stream",
     "text": [
      "strawberry\n",
      "['apple', 'cherry']\n",
      "['orange', 'apple']\n"
     ]
    }
   ],
   "source": [
    "# print the last element\n",
    "print(basketOfFruits[-1])\n",
    "\n",
    "# access elements 2nd to 4th :\n",
    "print(basketOfFruits[1:3])\n",
    "\n",
    "# elements beginning to 3rd :\n",
    "print(basketOfFruits[:2])"
   ]
  },
  {
   "cell_type": "code",
   "execution_count": 58,
   "metadata": {},
   "outputs": [],
   "source": [
    "# We tried a list of strings, but you can also do that with some numerical elements:\n",
    "numericList = [4, 2, 3, 10.2]"
   ]
  },
  {
   "cell_type": "markdown",
   "metadata": {},
   "source": [
    "As you can see above, the first three elements are integers, while the last one is a float. Like we said, you can store a number, a string, and even another list within a single list. It's okay to mix data types!"
   ]
  },
  {
   "cell_type": "code",
   "execution_count": 59,
   "metadata": {},
   "outputs": [
    {
     "name": "stdout",
     "output_type": "stream",
     "text": [
      "['an other list', 1]\n"
     ]
    }
   ],
   "source": [
    "strangeList = [4, 10.2, \"cherry\", [\"an other list\", 1]]\n",
    "\n",
    "# try to print the 4th element :\n",
    "print(strangeList[3])"
   ]
  },
  {
   "cell_type": "markdown",
   "metadata": {},
   "source": [
    "#### Lists\n",
    "1. Under the first # TODO line, declare a List with five elements called colors. These elements should be the colors red, yellow, orange, green, blue.\n",
    "2. Under the second # TODO line, replace the color green with emerald using the array index\n",
    "3. Run the code to display the content of the array"
   ]
  },
  {
   "cell_type": "code",
   "execution_count": 60,
   "metadata": {},
   "outputs": [
    {
     "name": "stdout",
     "output_type": "stream",
     "text": [
      "red\n",
      "yellow\n",
      "orange\n",
      "emerald\n",
      "blue\n"
     ]
    }
   ],
   "source": [
    "# TODO Step 1 - Declare a variable named colors of a List with the 5 requested colors\n",
    "colors = ['red', 'yellow', 'orange', 'green', 'blue']\n",
    "# TODO Step 2 - replace the color green with emerald using the list index\n",
    "colors[3] = \"emerald\" \n",
    "# print the contents of the list\n",
    "for color in colors :\n",
    "    print(color)"
   ]
  },
  {
   "cell_type": "markdown",
   "metadata": {},
   "source": [
    "#### Python list methods: add and delete an element\n",
    "\n",
    "Lists are mutable, which means they allow you to modify the contents of a collection of elements, including changing the number of elements. <br> Among other things, lists allows you to: \n",
    "- Search for a specific element in the list. \n",
    "- Append (add) a new element to the end.  \n",
    "- Insert a new element at a specific index. \n",
    "- Remove an element at a specific index."
   ]
  },
  {
   "cell_type": "markdown",
   "metadata": {},
   "source": [
    "#### Create a list and add elements"
   ]
  },
  {
   "cell_type": "code",
   "execution_count": null,
   "metadata": {},
   "outputs": [],
   "source": [
    "# First of all, you can only create an empty list in Python. You have to add elements one by one like this:\n",
    "\n",
    "# The first statement creates an empty list named myList.\n",
    "myList = []\n",
    "\n",
    "# We then added a first element with the mylist.append(7) statement. Python adds it to the list at the 0 index.\n",
    "myList.append(7)\n",
    "\n",
    "# Finally, the myList.append(5) adds a 5 integer element to the list at index 1. \n",
    "myList.append(5) # => [7,5]"
   ]
  },
  {
   "cell_type": "markdown",
   "metadata": {},
   "source": [
    "#### There are some methods implemented by the List class that come in handy:\n",
    "1. append - to add a new element at the end of an array. Here you need to provide a new element.\n",
    "2. You can also place a new element in a given position by specifying the index through the  insert method. For instance, myList.insert(1,12) will insert an integer with value 12 at position 1, and move the existing value at position 2, and so on.\n",
    "3. remove - searches for the given element in the list and removes the first matching element. For example, if you want to delete 5 from your list, you use   myList.remove(5).\n",
    "4. index - method finds an element in a list and returns its position."
   ]
  },
  {
   "cell_type": "code",
   "execution_count": null,
   "metadata": {},
   "outputs": [],
   "source": [
    "# What does all that look like?  Here's the Python syntax for the above:\n",
    "\n",
    "myList = []\n",
    "\n",
    "# You can see the same operation from before: adding 7, then 5 to the list.\n",
    "myList.append(7) # -> [7]\n",
    "myList.append(5) # -> [7, 5]\n",
    "\n",
    "# Then insert 12 at index 1. The existing value at index 1 is moved to index 2.\n",
    "myList.insert(1,12) # [7, 12, 5]\n",
    "\n",
    "# Next, you're asking the List to change the value at index 0.\n",
    "myList[0] = 4 # -> [4, 12, 5]\n",
    "\n",
    "# Then, with .remove() , you're asking the list to remove the first 12 value found.\n",
    "myList.remove(12) # [4, 5]\n",
    "\n",
    "# Finally, you're asking the list to print the index of value 5.\n",
    "myList.index(5) # print 1"
   ]
  },
  {
   "cell_type": "markdown",
   "metadata": {},
   "source": [
    "To delete an existing element at a specific index, use the del keyword. Here you provide the index of element you wish to remove. If you no longer need the first element, you can remove it from position 0. That will shift the original second element from position 1 to position 0, the third from position 2 to position 1, and so on. To do so: del myList[0]"
   ]
  },
  {
   "cell_type": "markdown",
   "metadata": {},
   "source": [
    "#### Keep track of the number of elements in your list"
   ]
  },
  {
   "cell_type": "code",
   "execution_count": 73,
   "metadata": {},
   "outputs": [
    {
     "data": {
      "text/plain": [
       "3"
      ]
     },
     "execution_count": 73,
     "metadata": {},
     "output_type": "execute_result"
    }
   ],
   "source": [
    "# The function len() allows you to get the number of elements in a list:\n",
    "myList = [1, 2, 3]\n",
    "len(myList) # will print 3"
   ]
  },
  {
   "cell_type": "markdown",
   "metadata": {},
   "source": [
    "#### Manipulate a guests list\n",
    "1. Replace the ?? by the proper code to create an empty list\n",
    "2. Add 3 guests to the list: Joey, Martin and Marie\n",
    "3. Display the size of the list\n",
    "4. Replace Martin with John in the list\n",
    "5. Remove Joey from the list\n",
    "6. Run the code to display the final result."
   ]
  },
  {
   "cell_type": "code",
   "execution_count": 96,
   "metadata": {},
   "outputs": [
    {
     "name": "stdout",
     "output_type": "stream",
     "text": [
      "John\n",
      "Marie\n"
     ]
    }
   ],
   "source": [
    "# TODO Step 1 - Replace the ?? by the proper code to create an empty list\n",
    "guests = []\n",
    "\n",
    "# TODO Step 2 - Add Joey, Martin and Marie to the list\n",
    "guests = ['Joey', 'Martin', 'Marie']\n",
    "# TODO Step 3 – display the size of the list\n",
    "len(guests)\n",
    "# TODO Step 4 - Replace Martin with John in the list\n",
    "guests[1] = 'John'\n",
    "# TODO Step 5 - Remove Joey from the list\n",
    "guests.remove('Joey')\n",
    "\n",
    "# print the content of the list\n",
    "for guest in guests :\n",
    "\tprint(guest)"
   ]
  },
  {
   "cell_type": "markdown",
   "metadata": {},
   "source": [
    "#### Dictionaries\n",
    "To recap from the video, a dictionary is a list of elements organized by a key.  Just like in a word dictionary, you look for a specific term. In programming, it is called a key. The definition is its value. This is called a KEY <> VALUE association."
   ]
  },
  {
   "cell_type": "markdown",
   "metadata": {},
   "source": [
    "#### Declaring dictionaries\n",
    "\n",
    "Dictionaries and lists are defined the same way except dictionaries are written with curly brackets, and they have keys and values. Here is an example of a dictionary definition:"
   ]
  },
  {
   "cell_type": "code",
   "execution_count": 97,
   "metadata": {},
   "outputs": [
    {
     "name": "stdout",
     "output_type": "stream",
     "text": [
      "34\n"
     ]
    }
   ],
   "source": [
    "myDict = {\"Jenny\": 34, \"Livia\": 28, \"Paul\": 31}\n",
    "print(myDict[\"Jenny\"]) # -> 34"
   ]
  },
  {
   "cell_type": "markdown",
   "metadata": {},
   "source": [
    "When using strings as keys, remember that they are case sensitive. For example, Jenny and jenny are two different keys that will associate with two different elements in a dictionary. For example:"
   ]
  },
  {
   "cell_type": "code",
   "execution_count": 98,
   "metadata": {},
   "outputs": [
    {
     "name": "stdout",
     "output_type": "stream",
     "text": [
      "34\n",
      "21\n"
     ]
    }
   ],
   "source": [
    "myDict[\"jenny\"] = 21\n",
    "print(myDict[\"Jenny\"]) # -> 34\n",
    "print(myDict[\"jenny\"]) # -> 21"
   ]
  },
  {
   "cell_type": "markdown",
   "metadata": {},
   "source": [
    "To protect against such situations, use variables to specify the keys once, and then reuse them throughout the code:"
   ]
  },
  {
   "cell_type": "code",
   "execution_count": 99,
   "metadata": {},
   "outputs": [
    {
     "name": "stdout",
     "output_type": "stream",
     "text": [
      "34\n"
     ]
    }
   ],
   "source": [
    "# define keys as variable\n",
    "kJenny = \"Jenny\"\n",
    "kLivia = \"Livia\"\n",
    "kPaul = \"Paul\";\n",
    "\n",
    "myDict = {kJenny: 34, kLivia: 28, kPaul: 31}\n",
    "\n",
    "# access an element\n",
    "print(myDict[kJenny]) # -> 34"
   ]
  },
  {
   "cell_type": "markdown",
   "metadata": {},
   "source": [
    "#### A little more about keys\n",
    "\n",
    "While the most commonly used type is  String , keys in Python can be of various types, for example, Integer :"
   ]
  },
  {
   "cell_type": "code",
   "execution_count": 100,
   "metadata": {},
   "outputs": [],
   "source": [
    "myDict[1] = \"test\""
   ]
  },
  {
   "cell_type": "markdown",
   "metadata": {},
   "source": [
    "#### Manipulating dictionary elements\n",
    "\n",
    "Here are the frequently used operations you can do with dictionaries:\n",
    "\n",
    "- Access  the value of an element by its key.\n",
    "- Add a new element with a new key and value.\n",
    "- Remove an element for a specific key.\n",
    "\n",
    "Imagine that you have a dictionary of people's names and their jobs, called professions.\n",
    "\n",
    "1. You can add a value as seen previously with two arguments: the key and the value.\n",
    "2. To access a value, use the key as an argument of the variable containing your dictionary."
   ]
  },
  {
   "cell_type": "code",
   "execution_count": 101,
   "metadata": {},
   "outputs": [
    {
     "name": "stdout",
     "output_type": "stream",
     "text": [
      "Business owner\n"
     ]
    }
   ],
   "source": [
    "professions = {} # declare an empty dictionary\n",
    "\n",
    "professions[\"Jenny\"] = \"Business owner\"\n",
    "print(professions[\"Jenny\"]) # -> Business Owner"
   ]
  },
  {
   "cell_type": "code",
   "execution_count": 102,
   "metadata": {},
   "outputs": [
    {
     "name": "stdout",
     "output_type": "stream",
     "text": [
      "Business owner\n",
      "Developer\n"
     ]
    }
   ],
   "source": [
    "# You can also modify an element by reusing an existing key:\n",
    "\n",
    "professions = {} # declare an empty dictionary\n",
    "\n",
    "professions[\"Jenny\"] = \"Business owner\"\n",
    "print(professions[\"Jenny\"]) # -> Business Owner\n",
    "\n",
    "professions[\"Jenny\"] = \"Developer\"\n",
    "print(professions[\"Jenny\"]) # -> Developer"
   ]
  },
  {
   "cell_type": "code",
   "execution_count": 103,
   "metadata": {},
   "outputs": [
    {
     "data": {
      "text/plain": [
       "'Developer'"
      ]
     },
     "execution_count": 103,
     "metadata": {},
     "output_type": "execute_result"
    }
   ],
   "source": [
    "# Finally, to remove an element, you can use a pop() method with the key of the element you want to remove:\n",
    "\n",
    "professions.pop(\"Jenny\")"
   ]
  },
  {
   "cell_type": "markdown",
   "metadata": {},
   "source": [
    "#### Counting elements\n",
    "\n",
    "Dictionaries, like lists, also have the len() function to to get the number of elements in dictionaries:"
   ]
  },
  {
   "cell_type": "code",
   "execution_count": 104,
   "metadata": {},
   "outputs": [
    {
     "data": {
      "text/plain": [
       "0"
      ]
     },
     "execution_count": 104,
     "metadata": {},
     "output_type": "execute_result"
    }
   ],
   "source": [
    "len(professions) # -> 0 here"
   ]
  },
  {
   "cell_type": "markdown",
   "metadata": {},
   "source": [
    "#### Manipulate dictionaries\n",
    "1. Fix march with its proper value (3)\n",
    "2. Remove June from the dict\n",
    "3. Run the code to display the content of the dict"
   ]
  },
  {
   "cell_type": "code",
   "execution_count": 105,
   "metadata": {},
   "outputs": [
    {
     "name": "stdout",
     "output_type": "stream",
     "text": [
      "Here are some interesting months\n",
      "September  is month number  9  of the year \n",
      "March  is month number  3  of the year \n"
     ]
    }
   ],
   "source": [
    "months = {}\n",
    "months[\"June\"] = 6\n",
    "months[\"September\"] = 9\n",
    "months[\"March\"] = 5\n",
    "\n",
    "# TODO Step 1 - Fix March with the proper value (3)\n",
    "months[\"March\"] = 3\n",
    "\n",
    "# TODO Step 2 – remove June\n",
    "months.pop(\"June\")\n",
    "\n",
    "# print the content of the dict :\n",
    "print(\"Here are some interesting months\")\n",
    "for month in months:\n",
    "\tprint(month, \" is month number \", months[month], \" of the year \")\n"
   ]
  },
  {
   "cell_type": "markdown",
   "metadata": {},
   "source": [
    "#### Quiz"
   ]
  },
  {
   "cell_type": "code",
   "execution_count": 108,
   "metadata": {},
   "outputs": [
    {
     "name": "stdout",
     "output_type": "stream",
     "text": [
      "27.5\n",
      "5.5\n"
     ]
    }
   ],
   "source": [
    "x = 10\n",
    "x += 12\n",
    "y = x/4\n",
    "x = x + y\n",
    "print(x)\n",
    "print(y)"
   ]
  },
  {
   "cell_type": "code",
   "execution_count": 114,
   "metadata": {},
   "outputs": [
    {
     "name": "stdout",
     "output_type": "stream",
     "text": [
      "['bar', 'baz']\n"
     ]
    }
   ],
   "source": [
    "a = ['foo', 'bar', 'baz', 'qux', 'quux', 'corge']\n",
    "print(a[-5:-3]) # or print(a[1])"
   ]
  },
  {
   "cell_type": "code",
   "execution_count": 115,
   "metadata": {},
   "outputs": [
    {
     "name": "stdout",
     "output_type": "stream",
     "text": [
      "['Red', 'Green', 'Yellow']\n"
     ]
    }
   ],
   "source": [
    "colors = []\n",
    "colors.append('Red')\n",
    "colors.append('Green')\n",
    "colors.append('Yellow')\n",
    "print(colors)"
   ]
  },
  {
   "cell_type": "code",
   "execution_count": 118,
   "metadata": {},
   "outputs": [],
   "source": [
    "frequency = ['sunday', 'monday', 'tuesday','wednesday']\n",
    "frequency.remove('monday')"
   ]
  },
  {
   "cell_type": "markdown",
   "metadata": {},
   "source": [
    "## Chapter 5 <br> Select the proper condition"
   ]
  },
  {
   "cell_type": "markdown",
   "metadata": {},
   "source": [
    "#### Display more specific information if it is available\n",
    "When starting your program,  you may not always know a user's name. So what about something like:\n",
    "\n",
    "- If we know the person's name, display it.\n",
    "- Else keep saying hello to the entire world.\n",
    "- This is what conditions are all about.\n",
    "\n",
    "You have some room to answer the question, and it will be stored in myInput.\n",
    "\n",
    "Let's write the code to see if we know our user's name:\n",
    "\n",
    "- Ask our user's name and store his answer in a variable  name .\n",
    "- Check if the name variable contains a value (The len function is your friend here).\n",
    "- If it does, say hello to our user using his name. \n",
    "- Else, keep saying hello to the world!\n",
    "- Here is the actual code:"
   ]
  },
  {
   "cell_type": "code",
   "execution_count": 119,
   "metadata": {},
   "outputs": [
    {
     "name": "stdout",
     "output_type": "stream",
     "text": [
      "What is your name ?Gabriel\n",
      "Hello Gabriel\n"
     ]
    }
   ],
   "source": [
    "name = input(\"What is your name ?\")\n",
    "\n",
    "if len(name) == 0:\n",
    "    print(\"Hello World !\")\n",
    "else:\n",
    "    print(\"Hello\", name)"
   ]
  },
  {
   "cell_type": "markdown",
   "metadata": {},
   "source": [
    "#### Test your conditions with booleans\n",
    "In Python, to validate a condition, you use a special data type called boolean. A variable of the boolean type can hold only two values: True  or False.  A boolean is the simplest data type.\n",
    "\n",
    "A boolean value takes the smallest slot in the computer memory: only one bit. Have you ever heard about computers being all about zeros and ones? Well, a bit can only have one value: 0 or 1.  Eight bits equal a byte, and a kilobyte is 1024 bits.  Sizes you're used to hearing about, like gigabytes or megabytes, are a multitude of bytes, and therefore, bits. \n",
    "\n"
   ]
  },
  {
   "cell_type": "code",
   "execution_count": 120,
   "metadata": {},
   "outputs": [],
   "source": [
    "# n Python, boolean types use true/false pairs. Let's declare a couple of boolean variables:\n",
    "theCourseIsExcellent = True\n",
    "theAuthorIsHumble = False"
   ]
  },
  {
   "cell_type": "markdown",
   "metadata": {},
   "source": [
    "What really matters is that the condition expressed after the if keyword must resolve to a boolean. That condition can be expressed as:\n",
    "\n",
    "1. A True or False value. For instance, if True: .\n",
    "2. A variable of aboolean type. For instance, if myVar: where myVar is aboolean type.\n",
    "3. An expression that resolves to a boolean value, like in the above example."
   ]
  },
  {
   "cell_type": "code",
   "execution_count": 121,
   "metadata": {},
   "outputs": [
    {
     "data": {
      "text/plain": [
       "True"
      ]
     },
     "execution_count": 121,
     "metadata": {},
     "output_type": "execute_result"
    }
   ],
   "source": [
    "# For instance:\n",
    "weather=\"The weather is good\"\n",
    "weather.startswith(\"The weather\") # -> True"
   ]
  },
  {
   "cell_type": "markdown",
   "metadata": {},
   "source": [
    "Comparison operators\n",
    "\n",
    "As the name suggests, comparison operators are used to compare two values. There are six of those:\n",
    "\n",
    "1. == Equal to (exactly the same)\n",
    "2. != Not equal to (different in any way)\n",
    "3. < Less than\n",
    "4. <= Less than or equal to\n",
    "5. > Greater than\n",
    "6. >= Greater than or equal to\n"
   ]
  },
  {
   "cell_type": "code",
   "execution_count": 122,
   "metadata": {},
   "outputs": [
    {
     "data": {
      "text/plain": [
       "True"
      ]
     },
     "execution_count": 122,
     "metadata": {},
     "output_type": "execute_result"
    }
   ],
   "source": [
    "# Here are some examples using numeric comparison:\n",
    "2 == 2 # -> True\n",
    "2 == 3 # -> False\n",
    "4 != 4 # -> False\n",
    "4!= 5 # -> True\n",
    "1 < 2 # -> True\n",
    "1 < 1 # -> False\n",
    "1 <= 1 # -> True\n",
    "3 > 4 # -> False\n",
    "5 > 4 # -> True\n",
    "5 >= 4 # -> True"
   ]
  },
  {
   "cell_type": "code",
   "execution_count": 124,
   "metadata": {},
   "outputs": [
    {
     "ename": "SyntaxError",
     "evalue": "unexpected EOF while parsing (<ipython-input-124-953edf1df115>, line 4)",
     "output_type": "error",
     "traceback": [
      "\u001b[0;36m  File \u001b[0;32m\"<ipython-input-124-953edf1df115>\"\u001b[0;36m, line \u001b[0;32m4\u001b[0m\n\u001b[0;31m    if age>=21: #Do something only of age if at least 21\u001b[0m\n\u001b[0m                                                        ^\u001b[0m\n\u001b[0;31mSyntaxError\u001b[0m\u001b[0;31m:\u001b[0m unexpected EOF while parsing\n"
     ]
    }
   ],
   "source": [
    "# Like any other result, it can be assigned to a variable. For instance:\n",
    "age=15\n",
    "\n",
    "if age>=21: #Do something only of age if at least 21"
   ]
  },
  {
   "cell_type": "markdown",
   "metadata": {},
   "source": [
    "#### Logical operators\n",
    "\n",
    "These operators allow you to combine boolean values: either specific boolean values or results of expressions. There are three of them:\n",
    "\n",
    "- and logical AND\n",
    "\n",
    "The result is true only when all the participating parts are true. \n",
    "E.g.: the result of  expression1 and expression2 will be true only if expression1 is true AND  expression2 is also true.\n",
    "- or logical OR\n",
    "\n",
    "The result is true when at least one of the participating parts is true. \n",
    "E.g.: the result of  expression1 or expression2 will be true if expression1 is true OR  expression2 is true. It will also be true if both expressions are true!\n",
    "- not logical NOT\n",
    "\n",
    "It simply inverts the given expression.\n",
    "The result of not(expression1) is true when expression1 is false; the result is false when  expression1 is true."
   ]
  },
  {
   "cell_type": "code",
   "execution_count": 125,
   "metadata": {},
   "outputs": [
    {
     "data": {
      "text/plain": [
       "True"
      ]
     },
     "execution_count": 125,
     "metadata": {},
     "output_type": "execute_result"
    }
   ],
   "source": [
    "# Here are some examples:\n",
    "True and True # True\n",
    "True and False # False\n",
    "False and False # False\n",
    "True or False # True\n",
    "True or True # True\n",
    "False or False # False\n",
    "not(True) # False\n",
    "not(False) # True"
   ]
  },
  {
   "cell_type": "code",
   "execution_count": 126,
   "metadata": {},
   "outputs": [
    {
     "data": {
      "text/plain": [
       "False"
      ]
     },
     "execution_count": 126,
     "metadata": {},
     "output_type": "execute_result"
    }
   ],
   "source": [
    "# The same rules apply when more than two expressions are chained together:\n",
    "True and True and True # True\n",
    "True and True and False # False\n",
    "True or False or False # True\n",
    "False or False or False # False"
   ]
  },
  {
   "cell_type": "markdown",
   "metadata": {},
   "source": [
    "Like with numeric operators, the logical operators respect the priority of operations - the inversion operator not comes first, then AND operator and and, finally, OR operator or. For example:"
   ]
  },
  {
   "cell_type": "code",
   "execution_count": null,
   "metadata": {},
   "outputs": [],
   "source": [
    "False or True and True # True\n",
    "not(False) and True or False # True"
   ]
  },
  {
   "cell_type": "code",
   "execution_count": null,
   "metadata": {},
   "outputs": [],
   "source": [
    "# As with numeric operators, use parentheses (()) to change the order:\n",
    "(True and False) or True # True\n",
    "not(True and False or not(True)) # True"
   ]
  },
  {
   "cell_type": "code",
   "execution_count": null,
   "metadata": {},
   "outputs": [],
   "source": [
    "# To reinforce what you've learned, can you calculate the result of following expressions?\n",
    "not(True) and False and not(True and False) and 4 < 3 or 4 >= 4 or (not(1 == 2) or 3 != 3) and 35 > 34"
   ]
  },
  {
   "cell_type": "markdown",
   "metadata": {},
   "source": [
    "#### The \"in\" operator\n",
    "\n",
    "Another important and useful logical operator in Python is the in operator. It evaluates to true if it finds a variable in a specified sequence (like a list or a string) and false otherwise."
   ]
  },
  {
   "cell_type": "code",
   "execution_count": null,
   "metadata": {},
   "outputs": [],
   "source": [
    "# For instance:\n",
    "myList = [4, 2, 3, 2, 10]\n",
    "myStringList = [\"a\", \"b\", \"c\", \"d\"]\n",
    "randomString = \"The weather is quite beautiful today !\"\n",
    "\n",
    "4 in myList # True\n",
    "0 in myList # False\n",
    "0 in myStringList # False\n",
    "\"c\" in myStringList # True\n",
    "\"e\" in myStringList # False\n",
    "\"weather\" in randomString # True\n",
    "\"quite\" in randomString # True\n",
    "\"rain ?\" in randomString # False"
   ]
  },
  {
   "cell_type": "markdown",
   "metadata": {},
   "source": [
    "#### Manage a chain of conditions\n",
    "We've personalized the welcome message, but what if we want to use more that one first name?\n",
    "\n",
    "One possibility is to create a chain of conditions. Here is the general form:"
   ]
  },
  {
   "cell_type": "code",
   "execution_count": null,
   "metadata": {},
   "outputs": [],
   "source": [
    "if condition1: \n",
    "    # instructions\n",
    "elif condition2:\n",
    "    # instructions\n",
    "else:\n",
    "    # instructions"
   ]
  },
  {
   "cell_type": "markdown",
   "metadata": {},
   "source": [
    "In our \"Hello, World\" example, the user could send two strings when running the program. We could then send a string containing the concatenation of those two strings:"
   ]
  },
  {
   "cell_type": "code",
   "execution_count": 127,
   "metadata": {},
   "outputs": [
    {
     "name": "stdout",
     "output_type": "stream",
     "text": [
      "What is your first name ?Gabriel\n",
      "What is your last name ?Freitas\n",
      "Hello Gabriel Freitas\n"
     ]
    }
   ],
   "source": [
    "firstName = input(\"What is your first name ?\")\n",
    "lastName = input(\"What is your last name ?\")\n",
    "\n",
    "if len(lastName) > 0 and len(firstName) > 0:\n",
    "    print(\"Hello\", firstName, lastName)\n",
    "elif len(firstName) > 0:\n",
    "    print(\"Hello\", firstName)\n",
    "else:\n",
    "    print(\"Hello World !\")"
   ]
  },
  {
   "cell_type": "markdown",
   "metadata": {},
   "source": [
    "#### Create If\n",
    "1. Run the code and check the printed result\n",
    "2. Replace the 3 if statements with a proper if/elif/else sequence\n",
    "3. Run the code. The output should be similar"
   ]
  },
  {
   "cell_type": "code",
   "execution_count": 128,
   "metadata": {},
   "outputs": [
    {
     "name": "stdout",
     "output_type": "stream",
     "text": [
      "c is between a and b\n"
     ]
    }
   ],
   "source": [
    "a = 5\n",
    "b = 10\n",
    "c = 7\n",
    "\n",
    "if c < a :\n",
    "\tprint(\"c is smaller than a\")\n",
    "    \n",
    "elif c > b :\n",
    "\tprint(\"c is higher than b\")\n",
    "    \n",
    "else :\n",
    "\tprint(\"c is between a and b\")"
   ]
  },
  {
   "cell_type": "markdown",
   "metadata": {},
   "source": [
    "## Chapter 6 <br> Use the right loop\n",
    "A loop, in programming, is a technique that allows you to repeat one or more instructions without having to retype them multiple times."
   ]
  },
  {
   "cell_type": "markdown",
   "metadata": {},
   "source": [
    "#### Use enumerated loops for known number of iterations\n",
    "Enumerated loops are used when you know in advance how many times you want to loop. In Python, these are called for loops.\n",
    "\n",
    "For  loops with collections"
   ]
  },
  {
   "cell_type": "code",
   "execution_count": 129,
   "metadata": {},
   "outputs": [
    {
     "name": "stdout",
     "output_type": "stream",
     "text": [
      "7\n",
      "2\n",
      "4\n",
      "10\n"
     ]
    }
   ],
   "source": [
    "# The classic use for enumerated loops in Python is when you need to iterate over a collection. \n",
    "# Here is an example with a list:\n",
    "\n",
    "myList = [7, 2, 4, 10]\n",
    "\n",
    "for elt in myList:\n",
    "    print(elt)"
   ]
  },
  {
   "cell_type": "markdown",
   "metadata": {},
   "source": [
    "Let's review what happened in the code below:\n",
    "\n",
    "1. We set a list (myList) with four elements: 7, 2, 4 and 10.\n",
    "2. We took the first element of the list (7) and stored it into the elt variable.\n",
    "3. Then we executed the block of code included in the for loop, with the elt variable containing our first value (print it).\n",
    "4. Then we started the process with elt taking the second value (2).\n",
    "5. We continued this process until all our list's elements had been stored in the elt variable, and the block of code executed for each one of them (print all of our list's values)."
   ]
  },
  {
   "cell_type": "code",
   "execution_count": 130,
   "metadata": {},
   "outputs": [
    {
     "name": "stdout",
     "output_type": "stream",
     "text": [
      "E\n",
      "l\n",
      "e\n",
      "m\n",
      "e\n",
      "n\n",
      "t\n",
      "s\n"
     ]
    }
   ],
   "source": [
    "# You can also iterate over a string: \n",
    "myString = \"Elements\"\n",
    "\n",
    "for elt in myString:  # elt takes every character of your string.\n",
    "    print(elt)"
   ]
  },
  {
   "cell_type": "markdown",
   "metadata": {},
   "source": [
    "#### For loops with an integer value\n",
    "\n",
    "To loop with an integer value in Python, first create a sequence starting from 0 to your integer using the range function. range generates a list of numbers according to three potential parameters range(start, stop, step) with:\n",
    "\n",
    "- start: starting number of the sequence\n",
    "- stop: generate numbers up to, but not including this number\n",
    "- step: the difference between each number in the sequence\n",
    "\n",
    "The for loop is great when you want to loop a predefined number of times or over all the elements of an array. When it is not the case, Python provides a more general way of looping with conditional loops."
   ]
  },
  {
   "cell_type": "code",
   "execution_count": 131,
   "metadata": {},
   "outputs": [
    {
     "name": "stdout",
     "output_type": "stream",
     "text": [
      "0\n",
      "1\n",
      "2\n",
      "3\n",
      "4\n",
      "0\n",
      "1\n",
      "2\n",
      "3\n",
      "4\n",
      "0\n",
      "1\n",
      "2\n",
      "3\n",
      "4\n",
      "0\n",
      "2\n",
      "4\n"
     ]
    }
   ],
   "source": [
    "# For instance\n",
    "for i in range(0, 5, 1):\n",
    "    print(i) # -> print 0 to 4 (stop-1)\n",
    "    \n",
    "for i in range(0, 5):\n",
    "    print(i) # -> print 0 to 4 too\n",
    "    \n",
    "for i in range(5):\n",
    "    print(i) # -> print 0 to 4 too\n",
    "\n",
    "for i in range(0, 5, 2):\n",
    "    print(i) # -> print 0, 2, 4"
   ]
  },
  {
   "cell_type": "markdown",
   "metadata": {},
   "source": [
    "#### Loop until you reach a condition with while loops\n",
    "Conditional loops are also called while loops.\n",
    "\n",
    "As you can guess by the name, the loop needs to keep going while … something… or\"as long as.\" It is a little like a combination of a for loop and an if statement. The number of repetitions is not defined by the lower and upper limits of an enumerator, but by a condition like that of an if statement."
   ]
  },
  {
   "cell_type": "code",
   "execution_count": 134,
   "metadata": {},
   "outputs": [
    {
     "ename": "SyntaxError",
     "evalue": "unexpected EOF while parsing (<ipython-input-134-ecdd047755da>, line 2)",
     "output_type": "error",
     "traceback": [
      "\u001b[0;36m  File \u001b[0;32m\"<ipython-input-134-ecdd047755da>\"\u001b[0;36m, line \u001b[0;32m2\u001b[0m\n\u001b[0;31m    # list of statements\u001b[0m\n\u001b[0m                        ^\u001b[0m\n\u001b[0;31mSyntaxError\u001b[0m\u001b[0;31m:\u001b[0m unexpected EOF while parsing\n"
     ]
    }
   ],
   "source": [
    "while logicalExpression:\n",
    "    # list of statements"
   ]
  },
  {
   "cell_type": "markdown",
   "metadata": {},
   "source": [
    "It can be interpreted as \"as long as the logical expression is true, repeat the instructions.\"\n",
    "\n",
    "This is how it works:\n",
    "\n",
    "1. The program verifies that logicalExpression is True\n",
    "2. If it is False, the instructions are ignored. You do not even enter the body of the loop located below :.\n",
    "3. If it is True , the list of statements below : are executed.\n",
    "4. Once the instructions are executed, return to step one.\n"
   ]
  },
  {
   "cell_type": "code",
   "execution_count": 133,
   "metadata": {},
   "outputs": [
    {
     "name": "stdout",
     "output_type": "stream",
     "text": [
      "I planted 1 trees\n",
      "I planted 2 trees\n",
      "I planted 3 trees\n",
      "I planted 4 trees\n",
      "I planted 5 trees\n",
      "I planted 6 trees\n",
      "I planted 7 trees\n",
      "I planted 8 trees\n",
      "I planted 9 trees\n",
      "I planted 10 trees\n",
      "I have a forest!\n"
     ]
    }
   ],
   "source": [
    "# Try the example below:\n",
    "numberOfTrees = 0\n",
    "\n",
    "while numberOfTrees < 10:\n",
    "    numberOfTrees += 1\n",
    "    print(\"I planted\", numberOfTrees, \"trees\")\n",
    "    \n",
    "print(\"I have a forest!\")"
   ]
  },
  {
   "cell_type": "markdown",
   "metadata": {},
   "source": [
    "The following is important to keep in mind: using while loops can cause a program to crash. ☠️ When the expression remains True forever, the program gets stuck in the loop, causing something called an infinite loop:"
   ]
  },
  {
   "cell_type": "code",
   "execution_count": null,
   "metadata": {},
   "outputs": [],
   "source": [
    "theSunIsUp = True\n",
    "\n",
    "while theSunIsUp:\n",
    "    print (\"Stay awake...forever!\")# theSunIsUp never changes\n",
    "    \n",
    "# we never reach this\n",
    "print (\"Go to sleep!\")"
   ]
  },
  {
   "cell_type": "markdown",
   "metadata": {},
   "source": [
    "#### Create Loop\n",
    "1. Create a for loop that prints the sentence I am having so much fun! 5 times.\n",
    "2. Change your for loop into a while loop. Is it a good idea?"
   ]
  },
  {
   "cell_type": "code",
   "execution_count": 7,
   "metadata": {},
   "outputs": [
    {
     "name": "stdout",
     "output_type": "stream",
     "text": [
      "I am having so much fun!\n",
      "I am having so much fun!\n",
      "I am having so much fun!\n",
      "I am having so much fun!\n",
      "I am having so much fun!\n"
     ]
    }
   ],
   "source": [
    "# TODO: Create a for and while loop that prints the sentence \"I am having so much fun!\" 5 times\n",
    "\n",
    "# 1. For\n",
    "for x in range(5):\n",
    "    print(\"I am having so much fun!\")\n"
   ]
  },
  {
   "cell_type": "code",
   "execution_count": 6,
   "metadata": {},
   "outputs": [
    {
     "name": "stdout",
     "output_type": "stream",
     "text": [
      "I am having so much fun! 1\n",
      "I am having so much fun! 2\n",
      "I am having so much fun! 3\n",
      "I am having so much fun! 4\n",
      "I am having so much fun! 5\n",
      "=)\n"
     ]
    }
   ],
   "source": [
    "# 2. While\n",
    "numberOfTimes = 0\n",
    "\n",
    "while numberOfTimes < 5:\n",
    "    numberOfTimes += 1\n",
    "    print(\"I am having so much fun!\", numberOfTimes)\n",
    "    \n",
    "print(\"=)\")"
   ]
  },
  {
   "cell_type": "markdown",
   "metadata": {},
   "source": [
    "#### Skipping some instructions inside a loop\n",
    "\n",
    "Within each type of loop, there might be situations when you want to skip some iterations or interrupt the whole loop prematurely upon a certain condition.\n",
    "\n",
    "For example, you may want to repeat something 10 times, but skip (or partially skip) when the value  equals 2 or 5. In Python, to skip an iteration in the loop, use continue statement:"
   ]
  },
  {
   "cell_type": "code",
   "execution_count": 5,
   "metadata": {},
   "outputs": [],
   "source": [
    "for i in range(10):\n",
    "    # statements executed for each iteration\n",
    "    if i == 2 or i == 5:\n",
    "        continue \n",
    "    # statements not executed when i == 2 or 5} "
   ]
  },
  {
   "cell_type": "markdown",
   "metadata": {},
   "source": [
    "In Python, to interrupt an execution sequence, use a break statement:"
   ]
  },
  {
   "cell_type": "code",
   "execution_count": 4,
   "metadata": {},
   "outputs": [
    {
     "name": "stdout",
     "output_type": "stream",
     "text": [
      "I have an orange !\n"
     ]
    }
   ],
   "source": [
    "basket = [\"apple\", \"orange\", \"banana\"]\n",
    "\n",
    "for fruit in basket:\n",
    "    if fruit == \"orange\":\n",
    "        print(\"I have an\", fruit, \"!\")\n",
    "        break"
   ]
  },
  {
   "cell_type": "markdown",
   "metadata": {},
   "source": [
    "## Chapter 7 <br> Practice managing program logic in Python\n",
    "\n",
    "Imagine your company has organized a friendly inter-colleague Python competition! Your task: Simulate a roulette game using Python.\n",
    "\n",
    "How does roulette work?  \n",
    "\n",
    "At a casino, the roulette wheel is composed of alternating red and black slots, each slot with its own number. Prior to spinning the wheel, a player place a bet on a roulette table. They start with a fixed amount of money and bets a small part of this amount at each spin.\n",
    "\n",
    "The players objective is guess what number the roulette wheel will land on at each turn and, therefore, to win the most money. When the player has lost all his money, they are out of the game."
   ]
  },
  {
   "cell_type": "markdown",
   "metadata": {},
   "source": [
    "#### Simulate a roulette game in Python\n",
    "\n",
    "- The player bets on a single number between 0 and 49. While they chooses their number, they also choose the amount of money to play.\n",
    "- The script generates a random number in this range (0 - 49), simulating the roulette. If the output number is the same than the  number that was chosen (1/50 probability), then the player has won FIFTY times his bet!\n",
    "- If not, the player looses his bet and can try again in the next round.  \n",
    "- If the user is running out of money, the script stops and displays that he has lost.\n",
    "\n",
    "You may wonder how to generate a random number between 0 and 49. You'll have to use a module named \"random\". You'll have to use this line of code to do so:  randint(0, 49) . This function generates a number between 0 and 49. Check-out this notebook for more info."
   ]
  },
  {
   "cell_type": "markdown",
   "metadata": {},
   "source": [
    "#### Further instructions\n",
    "\n",
    "You will have some checkups to run:\n",
    "\n",
    "- When the player bets an amount of money, you have to check to ensure this corresponds with the amount of money the player has left. You also have to check that this amount is greater than 0. You will ask him as long as these conditions are not met.\n",
    "- When the player bets a number, the program has to check that the number is between 0 and 49."
   ]
  },
  {
   "cell_type": "markdown",
   "metadata": {},
   "source": [
    "#### Deliverable\n",
    "\n",
    "- You will provide your program in a Jupyter notebook format. Make sure that one loop statement has been used in addition to a conditional structure (if/else)."
   ]
  },
  {
   "cell_type": "code",
   "execution_count": null,
   "metadata": {},
   "outputs": [],
   "source": [
    "from random import randint\n",
    "\n",
    "numberOutput = randint(0, 49) \n",
    "money = 1000,\n",
    "continueGame = True\n",
    "print('Welcome !!You have', money, '€. Good luck !')\n",
    "\n",
    "while continueGame:\n",
    "    print('         ')\n",
    "    numberBet = int(input('On which number do you want to bet ?'))\n",
    "    \n",
    "    while numberBet > 49 or numberBet < 0:\n",
    "        print('You have to bet a number between 0 and 49')\n",
    "        numberBet = int(input('So, on which number do you want to bet ?'))\n",
    "        amountBet = int(input('How much do you want to bet on this number ?'))\n",
    "        \n",
    "        while amountBet > money or amountBet < 1:\n",
    "            print(\"You can't bet that with your current amount of money !!\")\n",
    "            amountBet = int(input('So, how much do you want to bet on this number ?'))\n",
    "            numberOutput = randint(0, 49) # line to use to generate a random number between 0 and 49\"\n",
    "            print('The number output is', numberOutput)\n",
    "            \n",
    "            if numberBet == numberOutput:\n",
    "                money += 50*amountBet\n",
    "                print('Congratulation !! You won', 50*amountBet, '€')\n",
    "                \n",
    "            elif money == 0:\n",
    "                continueGame = False\n",
    "                print(\"Sorry but you don't have enough money to continue ! The game is now ending !\")\n",
    "                \n",
    "            else:\n",
    "                money -= amountBet\n",
    "                print('Sorry but you lost, try again !')\n",
    "                print('You now have', money, '€ left')"
   ]
  },
  {
   "cell_type": "markdown",
   "metadata": {},
   "source": [
    "## Chapter 8 <br> Understand parameters and return values\n",
    "\n",
    "#### What is a function declaration composed of?\n",
    "\n",
    "Let's say you have a 6 (length) by 4 (width) rectangle and you want to print its perimeter. You can create a function which calculates it!"
   ]
  },
  {
   "cell_type": "code",
   "execution_count": 1,
   "metadata": {},
   "outputs": [],
   "source": [
    "def displayPerimeter():\n",
    "    length = 6\n",
    "    width = 4\n",
    "    perimeter = 2*(length + width)\n",
    "    print(perimeter) # -> 6\n",
    "    \n",
    "# This function is implemented correctly, but quite useless as you'll always end up working with the same numbers."
   ]
  },
  {
   "cell_type": "markdown",
   "metadata": {},
   "source": [
    "#### Functions with parameters\n",
    "\n",
    "To address this limitation, you need to make your function accept outside numbers. You can do that by defining a function with parameters."
   ]
  },
  {
   "cell_type": "code",
   "execution_count": 2,
   "metadata": {},
   "outputs": [],
   "source": [
    "def displayPerimeter(length, width): \n",
    "    perimeter = 2 * (length + width)\n",
    "    print(perimeter) # -> depends on the values of length and width"
   ]
  },
  {
   "cell_type": "markdown",
   "metadata": {},
   "source": [
    "Parameters are variables listed in the function declaration that are specified inside  ()  by the name. "
   ]
  },
  {
   "cell_type": "code",
   "execution_count": 3,
   "metadata": {},
   "outputs": [
    {
     "name": "stdout",
     "output_type": "stream",
     "text": [
      "42\n",
      "8\n"
     ]
    }
   ],
   "source": [
    "displayPerimeter(10, 11) # -> 42\n",
    "displayPerimeter(2, 2) # -> 8\n",
    "# Each value is assigned to a parameter in the order they are defined."
   ]
  },
  {
   "cell_type": "markdown",
   "metadata": {},
   "source": [
    "Parameters are the input the function needs to operate.\n",
    "Parameters are the variables declared in a function. And the values that are passed to that function are called arguments.\n",
    "\n",
    "This is great, you've added some purpose to your function.\n",
    "\n",
    "Often, the code that called the function needs an answer to perform its own work. This answer can be provided by the return value of the function.\n",
    "\n",
    "#### Define a return value\n",
    "\n",
    "To define a return value, you need to:\n",
    "\n",
    "Alter the declaration of the function to indicate that it's expected to return a result.\n",
    "End the function with the return keyword.\n",
    "Here is how you can turn your displayPerimeter into a calculatePerimeter function that will return the result of the calculation so it can be used by the calling function:"
   ]
  },
  {
   "cell_type": "code",
   "execution_count": 4,
   "metadata": {},
   "outputs": [],
   "source": [
    "def sumCustom(a, b):\n",
    "    calc = a + b\n",
    "    return calc"
   ]
  },
  {
   "cell_type": "markdown",
   "metadata": {},
   "source": [
    "You could also forgo the sum variable and return the result of the calculation expression directly:"
   ]
  },
  {
   "cell_type": "code",
   "execution_count": 5,
   "metadata": {},
   "outputs": [],
   "source": [
    "def sumCustom(a, b):\n",
    "    return a + b"
   ]
  },
  {
   "cell_type": "markdown",
   "metadata": {},
   "source": [
    "Once your function is defined, you can use it as many times as you want. Here are a couple of variations:"
   ]
  },
  {
   "cell_type": "code",
   "execution_count": 7,
   "metadata": {},
   "outputs": [
    {
     "name": "stdout",
     "output_type": "stream",
     "text": [
      "10\n",
      "1009\n"
     ]
    }
   ],
   "source": [
    "sumOfSmallNumbers = sumCustom(3,7)\n",
    "print(sumOfSmallNumbers) # -> 10\n",
    "\n",
    "sumOfLargerNumbers = sumCustom(sumOfSmallNumbers,999)\n",
    "print(sumOfLargerNumbers) # -> 1009\n",
    "\n",
    "# In the example above, we used the result of the first calculation as a parameter for the next one."
   ]
  },
  {
   "cell_type": "markdown",
   "metadata": {},
   "source": [
    "#### Use the help function\n",
    "You already know print, len, and input, which are standard Python functions. There are way more functions, like:\n",
    "\n",
    "1. sum : calculates the sum of a list\n",
    "2. pow : takes two arguments, x a number, and y a number which is to be powered with x. It's equivalent to x**y\n",
    "3. abs : returns the absolute value of a given number\n",
    "\n",
    "For instance:"
   ]
  },
  {
   "cell_type": "code",
   "execution_count": 8,
   "metadata": {},
   "outputs": [
    {
     "data": {
      "text/plain": [
       "3"
      ]
     },
     "execution_count": 8,
     "metadata": {},
     "output_type": "execute_result"
    }
   ],
   "source": [
    "myList = [1,2,3,4,-2]\n",
    "\n",
    "sum(myList) # -> 8\n",
    "pow(2,3) # -> 8, equivalent to 2**3\n",
    "abs(-3) # -> 3"
   ]
  },
  {
   "cell_type": "markdown",
   "metadata": {},
   "source": [
    "You may remember the name of a function, but not always what it is supposed to do. Don't panic! The help function is there to... help! If you call help(myFunctionName), it will display the help documentation about this function:\n",
    "\n",
    "- Its purpose\n",
    "- Use recommendations\n",
    "- List and parameter descriptions\n",
    "- And more"
   ]
  },
  {
   "cell_type": "markdown",
   "metadata": {},
   "source": [
    "## Chapter 9 <br> Call functions using methods\n",
    "\n",
    "#### What is a method?\n",
    "\n",
    "Methods are functions that are defined inside a class. You can, however, isolate instance methods, that are executed within the context of an object from class methods, which operate directly on the class.\n",
    "\n",
    "#### String methods\n",
    "\n",
    "Python has quite a few methods that string objects can call to perform frequently occurring tasks related to strings. For example, you may need to put your string in capital letters, or maybe just the first character, or replace a specific character.\n",
    "\n",
    "Here are the corresponding methods:\n",
    "\n",
    "1. upper: returns an uppercase string.\n",
    "2. lower: returns a lowercase string.\n",
    "3. capitalize: capitalizes the first letter. \n",
    "4. count: returns occurrences of substring in string.\n",
    "5. replace: replaces a character or a substring inside your string.\n",
    "\n",
    "Let's try this with Python:"
   ]
  },
  {
   "cell_type": "code",
   "execution_count": 9,
   "metadata": {},
   "outputs": [
    {
     "name": "stdout",
     "output_type": "stream",
     "text": [
      "SIMPLE\n",
      "this is a complex string way more complex than our first string, don`t you thing?\n",
      "Simple\n",
      "2\n",
      "This is a simple String way more simple than our first string, don`t you thing?\n"
     ]
    }
   ],
   "source": [
    "simpleString = \"simple\"\n",
    "complexString = \"This is a complex String way more complex than our first string, don`t you thing?\"\n",
    "\n",
    "print(simpleString.upper())\n",
    "print(complexString.lower())\n",
    "print(simpleString.capitalize())\n",
    "print(complexString.count(\"complex\"))\n",
    "print(complexString.replace(\"complex\", \"simple\"))"
   ]
  },
  {
   "cell_type": "markdown",
   "metadata": {},
   "source": [
    "You can find the full list of methods by using the help function over the string object: help(str).\n",
    "\n",
    "Methods work exactly like functions: they can have arguments and return value. All string methods return new values. They do not change the original string.\n",
    "\n",
    "To call a method, use a dot notation, which is common in many programming languages. Write the variable's name followed by the method name, separated by a dot:   variableName.methodName() .\n",
    "\n",
    "The dot notation is used to access any member of a class, which can be a field or method. A method call always ends with() , even if it doesn't accept arguments.\n",
    " \n",
    "#### Collections methods\n",
    "\n",
    "There are a lot of list or dict methods you already know. For example,  append,  insert , and remove are the most commonly used. Let's check out some others:\n",
    "\n",
    "- sort : sorts the list (from min to max with numerics, alphabetical order with strings). You can't sort a list of mixed data types.\n",
    "- pop : removes the element at the specified position, and displays it for the list. It also removes the element with the specified key and displays it for the dict.\n",
    "- values : returns a list of all the values in the dictionary.\n",
    "\n",
    "For instance:"
   ]
  },
  {
   "cell_type": "code",
   "execution_count": 10,
   "metadata": {},
   "outputs": [
    {
     "name": "stdout",
     "output_type": "stream",
     "text": [
      "[-20, 1, 2, 40.2, 289, 1000]\n",
      "[-20, 1, 2, 289, 1000]\n",
      "{'orange': 2, 'strawberry': 10}\n",
      "dict_values([2, 10])\n"
     ]
    }
   ],
   "source": [
    "myList = [1, 2, 1000, 289, 40.2, -20]\n",
    "myDict = {'apple': 4, 'orange': 2, 'strawberry':10}\n",
    "\n",
    "myList.sort() # sort and replace the list, not returning any value\n",
    "print(myList) # -> -20, 1, 2, 40.2, 289, 1000\n",
    "\n",
    "myList.pop(3)\n",
    "print(myList) # -> -20, 1, 2, 289, 1000\n",
    "\n",
    "myDict.pop('apple')\n",
    "print(myDict) # -> only orange and strawberry\n",
    "\n",
    "mySecondList = myDict.values()\n",
    "print(mySecondList) # -> [2, 10]"
   ]
  },
  {
   "cell_type": "markdown",
   "metadata": {},
   "source": [
    "## Chapter 10 <br> More functions with modules and packages\n",
    "\n",
    "#### What are modules in Python?\n",
    "\n",
    "A module is like a code library: a file containing a set of functions, classes, and variables you want to include in your application.\n",
    "\n",
    "For instance, if you're working on a geometry application, you may need some:\n",
    "\n",
    "1. Classes:\n",
    "    - A square with its side's length as attribute.\n",
    "    - A triangle with the length of its three sides as attributes.\n",
    "    - A circle defined by its radius.\n",
    "    - Etc.\n",
    "2. Variables:\n",
    "    - PI: constant, useful to calculate circle area, etc.\n",
    "    - Phi: constant, represents the golden ratio.\n",
    "3. Functions:\n",
    "    - Area with calculations dependent upon an object (square, triangle, etc.).\n",
    "    - Angles which calculate angles of a triangle based on the length of its sides.\n",
    "    - Etc.\n",
    "\n",
    "You could write/define all these in your notebook, or you could store them in a Python file, and then import them in your notebook, which is called a module!"
   ]
  },
  {
   "cell_type": "code",
   "execution_count": 23,
   "metadata": {},
   "outputs": [
    {
     "ename": "ModuleNotFoundError",
     "evalue": "No module named 'geometry'",
     "output_type": "error",
     "traceback": [
      "\u001b[0;31m---------------------------------------------------------------------------\u001b[0m",
      "\u001b[0;31mModuleNotFoundError\u001b[0m                       Traceback (most recent call last)",
      "\u001b[0;32m<ipython-input-23-9fd711d57db6>\u001b[0m in \u001b[0;36m<module>\u001b[0;34m\u001b[0m\n\u001b[1;32m      1\u001b[0m \u001b[0;31m# Use the import keyword to import the geometry module:\u001b[0m\u001b[0;34m\u001b[0m\u001b[0;34m\u001b[0m\u001b[0;34m\u001b[0m\u001b[0m\n\u001b[0;32m----> 2\u001b[0;31m \u001b[0;32mimport\u001b[0m \u001b[0mgeometry\u001b[0m\u001b[0;34m\u001b[0m\u001b[0;34m\u001b[0m\u001b[0m\n\u001b[0m",
      "\u001b[0;31mModuleNotFoundError\u001b[0m: No module named 'geometry'"
     ]
    }
   ],
   "source": [
    "# Use the import keyword to import the geometry module:\n",
    "import geometry"
   ]
  },
  {
   "cell_type": "code",
   "execution_count": 19,
   "metadata": {},
   "outputs": [
    {
     "ename": "NameError",
     "evalue": "name 'geometry' is not defined",
     "output_type": "error",
     "traceback": [
      "\u001b[0;31m---------------------------------------------------------------------------\u001b[0m",
      "\u001b[0;31mNameError\u001b[0m                                 Traceback (most recent call last)",
      "\u001b[0;32m<ipython-input-19-d56cffeb8c0d>\u001b[0m in \u001b[0;36m<module>\u001b[0;34m\u001b[0m\n\u001b[1;32m      1\u001b[0m \u001b[0;31m# Now you can use your functions, classes, etc. in your notebook:\u001b[0m\u001b[0;34m\u001b[0m\u001b[0;34m\u001b[0m\u001b[0;34m\u001b[0m\u001b[0m\n\u001b[0;32m----> 2\u001b[0;31m \u001b[0msq\u001b[0m \u001b[0;34m=\u001b[0m \u001b[0mgeometry\u001b[0m\u001b[0;34m.\u001b[0m\u001b[0msquare\u001b[0m\u001b[0;34m(\u001b[0m\u001b[0;36m4\u001b[0m\u001b[0;34m)\u001b[0m\u001b[0;34m\u001b[0m\u001b[0;34m\u001b[0m\u001b[0m\n\u001b[0m\u001b[1;32m      3\u001b[0m \u001b[0mtri\u001b[0m \u001b[0;34m=\u001b[0m \u001b[0mgeometry\u001b[0m\u001b[0;34m.\u001b[0m\u001b[0mtriangle\u001b[0m\u001b[0;34m(\u001b[0m\u001b[0;36m3\u001b[0m\u001b[0;34m,\u001b[0m \u001b[0;36m6\u001b[0m\u001b[0;34m,\u001b[0m \u001b[0;36m5\u001b[0m\u001b[0;34m)\u001b[0m\u001b[0;34m\u001b[0m\u001b[0;34m\u001b[0m\u001b[0m\n\u001b[1;32m      4\u001b[0m \u001b[0;34m\u001b[0m\u001b[0m\n\u001b[1;32m      5\u001b[0m \u001b[0mprint\u001b[0m\u001b[0;34m(\u001b[0m\u001b[0mgeometry\u001b[0m\u001b[0;34m.\u001b[0m\u001b[0mpi\u001b[0m\u001b[0;34m)\u001b[0m \u001b[0;31m# -> 3.14159265359\u001b[0m\u001b[0;34m\u001b[0m\u001b[0;34m\u001b[0m\u001b[0m\n",
      "\u001b[0;31mNameError\u001b[0m: name 'geometry' is not defined"
     ]
    }
   ],
   "source": [
    "# Now you can use your functions, classes, etc. in your notebook:\n",
    "sq = geometry.square(4)\n",
    "tri = geometry.triangle(3, 6, 5)\n",
    "\n",
    "print(geometry.pi) # -> 3.14159265359\n",
    "\n",
    "geometry.area(sq) # -> 16"
   ]
  },
  {
   "cell_type": "markdown",
   "metadata": {},
   "source": [
    "All of the functions, variables, classes, etc. included in the geometry module can be used with  moduleName.function()  or  moduleName.class(). If you don't want to write geometry every time you want to use a geometry function, you have two options: "
   ]
  },
  {
   "cell_type": "code",
   "execution_count": 16,
   "metadata": {},
   "outputs": [
    {
     "ename": "ModuleNotFoundError",
     "evalue": "No module named 'geometry'",
     "output_type": "error",
     "traceback": [
      "\u001b[0;31m---------------------------------------------------------------------------\u001b[0m",
      "\u001b[0;31mModuleNotFoundError\u001b[0m                       Traceback (most recent call last)",
      "\u001b[0;32m<ipython-input-16-f86837f5a913>\u001b[0m in \u001b[0;36m<module>\u001b[0;34m\u001b[0m\n\u001b[0;32m----> 1\u001b[0;31m \u001b[0;32mfrom\u001b[0m \u001b[0mgeometry\u001b[0m \u001b[0;32mimport\u001b[0m \u001b[0;34m*\u001b[0m \u001b[0;31m# -> we can use area() or access pi directly\u001b[0m\u001b[0;34m\u001b[0m\u001b[0;34m\u001b[0m\u001b[0m\n\u001b[0m\u001b[1;32m      2\u001b[0m \u001b[0;34m\u001b[0m\u001b[0m\n\u001b[1;32m      3\u001b[0m \u001b[0;31m# OR :\u001b[0m\u001b[0;34m\u001b[0m\u001b[0;34m\u001b[0m\u001b[0;34m\u001b[0m\u001b[0m\n\u001b[1;32m      4\u001b[0m \u001b[0;34m\u001b[0m\u001b[0m\n\u001b[1;32m      5\u001b[0m \u001b[0;32mimport\u001b[0m \u001b[0mgeometry\u001b[0m \u001b[0;32mas\u001b[0m \u001b[0mgeo\u001b[0m \u001b[0;31m# we can now use geo.are() or geo.pi\u001b[0m\u001b[0;34m\u001b[0m\u001b[0;34m\u001b[0m\u001b[0m\n",
      "\u001b[0;31mModuleNotFoundError\u001b[0m: No module named 'geometry'"
     ]
    }
   ],
   "source": [
    "from geometry import * # -> we can use area() or access pi directly\n",
    "\n",
    "# OR :\n",
    "\n",
    "import geometry as geo # we can now use geo.are() or geo.pi"
   ]
  },
  {
   "cell_type": "markdown",
   "metadata": {},
   "source": [
    "You can also import a specific function from a module and use it like any other Python native function (print, len, etc.):"
   ]
  },
  {
   "cell_type": "code",
   "execution_count": 17,
   "metadata": {},
   "outputs": [
    {
     "ename": "ModuleNotFoundError",
     "evalue": "No module named 'geometry'",
     "output_type": "error",
     "traceback": [
      "\u001b[0;31m---------------------------------------------------------------------------\u001b[0m",
      "\u001b[0;31mModuleNotFoundError\u001b[0m                       Traceback (most recent call last)",
      "\u001b[0;32m<ipython-input-17-0fa0d3dae819>\u001b[0m in \u001b[0;36m<module>\u001b[0;34m\u001b[0m\n\u001b[0;32m----> 1\u001b[0;31m \u001b[0;32mfrom\u001b[0m \u001b[0mgeometry\u001b[0m \u001b[0;32mimport\u001b[0m \u001b[0mpi\u001b[0m\u001b[0;34m\u001b[0m\u001b[0;34m\u001b[0m\u001b[0m\n\u001b[0m\u001b[1;32m      2\u001b[0m \u001b[0mprint\u001b[0m\u001b[0;34m(\u001b[0m\u001b[0mpi\u001b[0m\u001b[0;34m)\u001b[0m \u001b[0;31m# -> 3.14159265359\u001b[0m\u001b[0;34m\u001b[0m\u001b[0;34m\u001b[0m\u001b[0m\n",
      "\u001b[0;31mModuleNotFoundError\u001b[0m: No module named 'geometry'"
     ]
    }
   ],
   "source": [
    "from geometry import pi\n",
    "print(pi) # -> 3.14159265359"
   ]
  },
  {
   "cell_type": "markdown",
   "metadata": {},
   "source": [
    "#### When one module isn't enough: the packages\n",
    "\n",
    "A package is a collection of Python modules. While a module is a single Python file, a package is a directory containing an additional __init__.py file. This distinguishes it from a directory that contains a number of scripts.\n",
    "\n",
    "For instance, you could have stored your geometry in three different files:\n",
    "\n",
    "- One for the classes: classes.py\n",
    "- One for the variable: variables.py\n",
    "- One for the functions: function.py"
   ]
  },
  {
   "cell_type": "code",
   "execution_count": null,
   "metadata": {},
   "outputs": [],
   "source": [
    "# You have to use the . operator to access a module after importing the whole package:\n",
    "import geometry # import all the geometry package\n",
    "\n",
    "print(geometry.variables.pi) # -> 3.1415...\n",
    "sq = geometry.classes.square(4)\n",
    "geometry.function.area(sq) # -> 16"
   ]
  },
  {
   "cell_type": "code",
   "execution_count": null,
   "metadata": {},
   "outputs": [],
   "source": [
    "# Or you can import a module from a package:\n",
    "import geometry.variables as var # import only what is available in variables.py\n",
    "\n",
    "print(var.pi) # -> 3.1415..."
   ]
  },
  {
   "cell_type": "markdown",
   "metadata": {},
   "source": [
    "#### NumPy: the first glimpse of scientific computing\n",
    "\n",
    "Let's try this with numpy, a well-known package containing a lot of scientific tools! To import the NumPy package, you could write import numpy, but it's easier to write:"
   ]
  },
  {
   "cell_type": "code",
   "execution_count": 24,
   "metadata": {},
   "outputs": [],
   "source": [
    "import numpy as np"
   ]
  },
  {
   "cell_type": "markdown",
   "metadata": {},
   "source": [
    "Now that you've imported the NumPy module, what about the square root function? It's the sqrt  function of NumPy:"
   ]
  },
  {
   "cell_type": "code",
   "execution_count": 25,
   "metadata": {},
   "outputs": [
    {
     "data": {
      "text/plain": [
       "4.0"
      ]
     },
     "execution_count": 25,
     "metadata": {},
     "output_type": "execute_result"
    }
   ],
   "source": [
    "np.sqrt(16) # -> 4.0"
   ]
  },
  {
   "cell_type": "markdown",
   "metadata": {},
   "source": [
    "But NumPy is providing a particular new object: the array. An array is similar to a list, or a mathematical matrix, and includes a lot of useful methods! Let's see an example of what is possible with arrays:"
   ]
  },
  {
   "cell_type": "code",
   "execution_count": 26,
   "metadata": {},
   "outputs": [
    {
     "name": "stdout",
     "output_type": "stream",
     "text": [
      "4\n",
      "10\n",
      "36\n",
      "20\n",
      "9.0\n",
      "7.106335201775948\n"
     ]
    }
   ],
   "source": [
    "myArray = np.array([1, 5, 10, 20])\n",
    "\n",
    "print(myArray.size) # number of elements\n",
    "print(myArray[2]) # print the 3rd element\n",
    "print(myArray.sum()) # print the sum of all elements\n",
    "print(myArray.max()) # print the max of our array\n",
    "print(myArray.mean()) # print the mean of our array\n",
    "print(myArray.std()) # print the standard deviation of our array"
   ]
  },
  {
   "cell_type": "markdown",
   "metadata": {},
   "source": [
    "#### To go deeper with Python packages\n",
    "\n",
    "These are just a few examples of what NumPy does! If you want to go deeper into packages, below are some other frequently used ones:\n",
    "\n",
    "- math : contains a lot of mathematical functions/variables. A lot of these are also included in NumPy.\n",
    "- matplotlib and seaborn: used for data visualization.\n",
    "- pandas: to import and process your data into Python.\n",
    "- sklearn: simple and efficient tools for data mining and data analysis.\n",
    "- scipy: used for scientific computing."
   ]
  },
  {
   "cell_type": "markdown",
   "metadata": {},
   "source": [
    "## Quiz"
   ]
  },
  {
   "cell_type": "code",
   "execution_count": 29,
   "metadata": {},
   "outputs": [],
   "source": [
    "def transform(a,b):\n",
    "    x = a + b\n",
    "    y = x * 2\n",
    "    return(y)"
   ]
  },
  {
   "cell_type": "code",
   "execution_count": 30,
   "metadata": {},
   "outputs": [],
   "source": [
    "x = 1\n",
    "y = 10\n",
    "x = transform(x, y)\n",
    "y = transform(y, x)"
   ]
  },
  {
   "cell_type": "code",
   "execution_count": 37,
   "metadata": {},
   "outputs": [
    {
     "name": "stdout",
     "output_type": "stream",
     "text": [
      "This is a test\n"
     ]
    }
   ],
   "source": [
    "a = 'This is a TEST'\n",
    "print(a.capitalize())"
   ]
  },
  {
   "cell_type": "code",
   "execution_count": 38,
   "metadata": {},
   "outputs": [
    {
     "name": "stdout",
     "output_type": "stream",
     "text": [
      "dict_values([2, 18, 12])\n"
     ]
    }
   ],
   "source": [
    "myDict = {'George': 4, 'Jean': 2, 'Paul': 10, 'Andrew': 18, 'Jacob': 8}\n",
    "\n",
    "myDict['Steve'] = 12\n",
    "\n",
    "toRemove = ['George', 'Paul', 'Jacob']\n",
    "for elt in toRemove:\n",
    "    myDict.pop(elt)\n",
    "\n",
    "print(myDict.values())"
   ]
  },
  {
   "cell_type": "code",
   "execution_count": 39,
   "metadata": {},
   "outputs": [
    {
     "name": "stdout",
     "output_type": "stream",
     "text": [
      "2.718281828459045\n"
     ]
    }
   ],
   "source": [
    "from math import e\n",
    "print(math.e)"
   ]
  },
  {
   "cell_type": "code",
   "execution_count": 40,
   "metadata": {},
   "outputs": [
    {
     "name": "stdout",
     "output_type": "stream",
     "text": [
      "2.718281828459045\n"
     ]
    }
   ],
   "source": [
    "from math import e\n",
    "print(e)"
   ]
  },
  {
   "cell_type": "code",
   "execution_count": 41,
   "metadata": {},
   "outputs": [
    {
     "name": "stdout",
     "output_type": "stream",
     "text": [
      "2.718281828459045\n"
     ]
    }
   ],
   "source": [
    "print(math.e)"
   ]
  },
  {
   "cell_type": "code",
   "execution_count": 42,
   "metadata": {},
   "outputs": [
    {
     "name": "stdout",
     "output_type": "stream",
     "text": [
      "2.718281828459045\n"
     ]
    }
   ],
   "source": [
    "print(e)"
   ]
  },
  {
   "cell_type": "code",
   "execution_count": 46,
   "metadata": {},
   "outputs": [
    {
     "data": {
      "text/plain": [
       "20"
      ]
     },
     "execution_count": 46,
     "metadata": {},
     "output_type": "execute_result"
    }
   ],
   "source": [
    "import numpy as np\n",
    "\n",
    "myNotes = np.array([0, 5, 10, 15, 20])\n",
    "\n",
    "myNotes.max()"
   ]
  },
  {
   "cell_type": "code",
   "execution_count": null,
   "metadata": {},
   "outputs": [],
   "source": []
  }
 ],
 "metadata": {
  "kernelspec": {
   "display_name": "Python 3",
   "language": "python",
   "name": "python3"
  },
  "language_info": {
   "codemirror_mode": {
    "name": "ipython",
    "version": 3
   },
   "file_extension": ".py",
   "mimetype": "text/x-python",
   "name": "python",
   "nbconvert_exporter": "python",
   "pygments_lexer": "ipython3",
   "version": "3.7.6"
  }
 },
 "nbformat": 4,
 "nbformat_minor": 4
}
